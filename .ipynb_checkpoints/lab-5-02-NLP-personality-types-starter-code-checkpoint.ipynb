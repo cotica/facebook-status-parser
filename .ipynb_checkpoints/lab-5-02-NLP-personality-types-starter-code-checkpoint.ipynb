{
 "cells": [
  {
   "cell_type": "markdown",
   "metadata": {},
   "source": [
    "# Exploratory Data Analysis on a Natural Language Processing Task\n",
    "> Authors: Caroline Schmitt, Matt Brems\n",
    "\n",
    "---\n",
    "\n",
    "Exploratory data analysis (EDA) is a crucial part of any data science project. EDA helps us discover interesting relationships in the data, detect outliers and errors, examine our own assumptions about the data, and prepare for modeling. During EDA we might discover that we need to clean our data more conscientiously, or that we have more missing data than we realized, or that there aren't many patterns in the data (indicating that modeling may be challenging.)\n",
    "\n",
    "In this lab you'll bring in a natural language dataset and perform EDA. The dataset contains Facebook statuses taken from between 2009 and 2011 as well as personality test results associated with the users whose Facebook statuses are included.\n",
    "\n",
    "This dataset uses results from the Big Five Personality Test, also referred to as the five-factor model, which measures a person's score on five dimensions of personality:\n",
    "- **O**penness\n",
    "- **C**onscientiousness\n",
    "- **E**xtroversion\n",
    "- **A**greeableness\n",
    "- **N**euroticism\n",
    "\n",
    "Notoriously, the political consulting group Cambridge Analytica claims to have predicted the personalities of Facebook users by using those users' data, with the goal of targeting them with political ads that would be particularly persuasive given their personality type. Cambridge Analytica claims to have considered 32 unique 'groups' in the following fashion:\n",
    "- For each of the five OCEAN qualities, a user is categorized as either 'yes' or 'no'.\n",
    "- This makes for 32 different potential combinations of qualities. ($2^5 = 32$).\n",
    "\n",
    "Cambridge Analytica's methodology was then, roughly, the following:\n",
    "- Gather a large amount of data from Facebook.\n",
    "- Use this data to predict an individual's Big Five personality \"grouping.\"\n",
    "- Design political advertisements that would be particularly effective to that particular \"grouping.\" (For example, are certain advertisements particularly effective toward people with specific personality traits?)\n",
    "\n",
    "In this lab you will perform EDA to examine many relationships in the data.\n",
    "\n",
    "Exploratory data analysis can be a non-linear process, and you're encouraged to explore questions that occur to you as you work through the notebook.\n",
    "\n",
    "> **Content note**: This dataset contains real Facebook statuses scraped from 2009 to 2011, and some of the statuses contain language that is not safe for work, crude, or offensive. The full dataset is available as `mypersonality.csv`, and a sanitized version containing only statuses that passed an automated profanity check is available as `mypersonality_noprofanity.csv`. Please do not hesitate to use `mypersonality_noprofanity.csv` if you would prefer to. Please note that the automated profanity check is not foolproof. If you have any concerns about working with this dataset, please get in touch with your section lead.\n",
    "\n",
    "---\n",
    "\n",
    "### External resources\n",
    "\n",
    "These resources are not required reading but may be of use or interest.\n",
    "\n",
    "- [Python Graph Gallery](https://python-graph-gallery.com/)\n",
    "- [Wikipedia page](https://en.wikipedia.org/wiki/Big_Five_personality_traits) on the Big Five test\n",
    "- [A short (3-4 pages) academic paper](./celli-al_wcpr13.pdf) using the `MyPersonality` dataset to model personality\n",
    "\n",
    "---\n",
    "\n",
    "## Load packages"
   ]
  },
  {
   "cell_type": "code",
   "execution_count": 84,
   "metadata": {
    "ExecuteTime": {
     "end_time": "2021-06-06T05:54:54.356731Z",
     "start_time": "2021-06-06T05:54:54.351726Z"
    }
   },
   "outputs": [],
   "source": [
    "import matplotlib.pyplot as plt, pandas as pd, seaborn as sns\n",
    "\n",
    "from sklearn.feature_extraction.text import CountVectorizer\n",
    "\n",
    "# this setting widens how many characters pandas will display in a column:\n",
    "pd.options.display.max_colwidth = 400\n",
    "\n",
    "sns.set_style('darkgrid')"
   ]
  },
  {
   "cell_type": "markdown",
   "metadata": {},
   "source": [
    "---\n",
    "\n",
    "## Load data"
   ]
  },
  {
   "cell_type": "code",
   "execution_count": 2,
   "metadata": {
    "ExecuteTime": {
     "end_time": "2021-06-06T04:56:13.414108Z",
     "start_time": "2021-06-06T04:56:13.337485Z"
    },
    "scrolled": true
   },
   "outputs": [
    {
     "data": {
      "text/html": [
       "<div>\n",
       "<style scoped>\n",
       "    .dataframe tbody tr th:only-of-type {\n",
       "        vertical-align: middle;\n",
       "    }\n",
       "\n",
       "    .dataframe tbody tr th {\n",
       "        vertical-align: top;\n",
       "    }\n",
       "\n",
       "    .dataframe thead th {\n",
       "        text-align: right;\n",
       "    }\n",
       "</style>\n",
       "<table border=\"1\" class=\"dataframe\">\n",
       "  <thead>\n",
       "    <tr style=\"text-align: right;\">\n",
       "      <th></th>\n",
       "      <th>0</th>\n",
       "      <th>1</th>\n",
       "    </tr>\n",
       "  </thead>\n",
       "  <tbody>\n",
       "    <tr>\n",
       "      <th>#AUTHID</th>\n",
       "      <td>b7b7764cfa1c523e4e93ab2a79a946c4</td>\n",
       "      <td>b7b7764cfa1c523e4e93ab2a79a946c4</td>\n",
       "    </tr>\n",
       "    <tr>\n",
       "      <th>STATUS</th>\n",
       "      <td>likes the sound of thunder.</td>\n",
       "      <td>is so sleepy it's not even funny that's she can't get to sleep.</td>\n",
       "    </tr>\n",
       "    <tr>\n",
       "      <th>sEXT</th>\n",
       "      <td>2.65</td>\n",
       "      <td>2.65</td>\n",
       "    </tr>\n",
       "    <tr>\n",
       "      <th>sNEU</th>\n",
       "      <td>3</td>\n",
       "      <td>3</td>\n",
       "    </tr>\n",
       "    <tr>\n",
       "      <th>sAGR</th>\n",
       "      <td>3.15</td>\n",
       "      <td>3.15</td>\n",
       "    </tr>\n",
       "    <tr>\n",
       "      <th>sCON</th>\n",
       "      <td>3.25</td>\n",
       "      <td>3.25</td>\n",
       "    </tr>\n",
       "    <tr>\n",
       "      <th>sOPN</th>\n",
       "      <td>4.4</td>\n",
       "      <td>4.4</td>\n",
       "    </tr>\n",
       "    <tr>\n",
       "      <th>cEXT</th>\n",
       "      <td>n</td>\n",
       "      <td>n</td>\n",
       "    </tr>\n",
       "    <tr>\n",
       "      <th>cNEU</th>\n",
       "      <td>y</td>\n",
       "      <td>y</td>\n",
       "    </tr>\n",
       "    <tr>\n",
       "      <th>cAGR</th>\n",
       "      <td>n</td>\n",
       "      <td>n</td>\n",
       "    </tr>\n",
       "    <tr>\n",
       "      <th>cCON</th>\n",
       "      <td>n</td>\n",
       "      <td>n</td>\n",
       "    </tr>\n",
       "    <tr>\n",
       "      <th>cOPN</th>\n",
       "      <td>y</td>\n",
       "      <td>y</td>\n",
       "    </tr>\n",
       "    <tr>\n",
       "      <th>DATE</th>\n",
       "      <td>06/19/09 03:21 PM</td>\n",
       "      <td>07/02/09 08:41 AM</td>\n",
       "    </tr>\n",
       "  </tbody>\n",
       "</table>\n",
       "</div>"
      ],
      "text/plain": [
       "                                        0  \\\n",
       "#AUTHID  b7b7764cfa1c523e4e93ab2a79a946c4   \n",
       "STATUS        likes the sound of thunder.   \n",
       "sEXT                                 2.65   \n",
       "sNEU                                    3   \n",
       "sAGR                                 3.15   \n",
       "sCON                                 3.25   \n",
       "sOPN                                  4.4   \n",
       "cEXT                                    n   \n",
       "cNEU                                    y   \n",
       "cAGR                                    n   \n",
       "cCON                                    n   \n",
       "cOPN                                    y   \n",
       "DATE                    06/19/09 03:21 PM   \n",
       "\n",
       "                                                                       1  \n",
       "#AUTHID                                 b7b7764cfa1c523e4e93ab2a79a946c4  \n",
       "STATUS   is so sleepy it's not even funny that's she can't get to sleep.  \n",
       "sEXT                                                                2.65  \n",
       "sNEU                                                                   3  \n",
       "sAGR                                                                3.15  \n",
       "sCON                                                                3.25  \n",
       "sOPN                                                                 4.4  \n",
       "cEXT                                                                   n  \n",
       "cNEU                                                                   y  \n",
       "cAGR                                                                   n  \n",
       "cCON                                                                   n  \n",
       "cOPN                                                                   y  \n",
       "DATE                                                   07/02/09 08:41 AM  "
      ]
     },
     "execution_count": 2,
     "metadata": {},
     "output_type": "execute_result"
    }
   ],
   "source": [
    "df = pd.read_csv('data/mypersonality.csv')\n",
    "# df = pd.read_csv('data/mypersonality_noprofanity.csv') \n",
    "# comment out above & uncomment this to use mypersonality_noprofanity.csv\n",
    "df.drop(columns=['NETWORKSIZE', 'BETWEENNESS', 'NBETWEENNESS', 'DENSITY',\n",
    "                 'BROKERAGE', 'NBROKERAGE', 'TRANSITIVITY'], inplace=True)\n",
    "df.head(2).T"
   ]
  },
  {
   "cell_type": "code",
   "execution_count": 3,
   "metadata": {
    "ExecuteTime": {
     "end_time": "2021-06-06T04:56:13.424140Z",
     "start_time": "2021-06-06T04:56:13.415916Z"
    }
   },
   "outputs": [
    {
     "data": {
      "text/plain": [
       "Index(['#AUTHID', 'STATUS', 'sEXT', 'sNEU', 'sAGR', 'sCON', 'sOPN', 'cEXT',\n",
       "       'cNEU', 'cAGR', 'cCON', 'cOPN', 'DATE'],\n",
       "      dtype='object')"
      ]
     },
     "execution_count": 3,
     "metadata": {},
     "output_type": "execute_result"
    }
   ],
   "source": [
    "df.columns"
   ]
  },
  {
   "cell_type": "markdown",
   "metadata": {},
   "source": [
    "---\n",
    "\n",
    "## EDA on Statuses\n",
    "\n",
    "Before we even vectorize the text, we might look at the lengths and word counts in each Facebook status.\n",
    "\n",
    "#### Create a new column called `status_length` that contains the length of each status:"
   ]
  },
  {
   "cell_type": "code",
   "execution_count": 4,
   "metadata": {
    "ExecuteTime": {
     "end_time": "2021-06-06T04:56:13.447120Z",
     "start_time": "2021-06-06T04:56:13.426429Z"
    }
   },
   "outputs": [
    {
     "data": {
      "text/html": [
       "<div>\n",
       "<style scoped>\n",
       "    .dataframe tbody tr th:only-of-type {\n",
       "        vertical-align: middle;\n",
       "    }\n",
       "\n",
       "    .dataframe tbody tr th {\n",
       "        vertical-align: top;\n",
       "    }\n",
       "\n",
       "    .dataframe thead th {\n",
       "        text-align: right;\n",
       "    }\n",
       "</style>\n",
       "<table border=\"1\" class=\"dataframe\">\n",
       "  <thead>\n",
       "    <tr style=\"text-align: right;\">\n",
       "      <th></th>\n",
       "      <th>0</th>\n",
       "      <th>1</th>\n",
       "    </tr>\n",
       "  </thead>\n",
       "  <tbody>\n",
       "    <tr>\n",
       "      <th>#AUTHID</th>\n",
       "      <td>b7b7764cfa1c523e4e93ab2a79a946c4</td>\n",
       "      <td>b7b7764cfa1c523e4e93ab2a79a946c4</td>\n",
       "    </tr>\n",
       "    <tr>\n",
       "      <th>STATUS</th>\n",
       "      <td>likes the sound of thunder.</td>\n",
       "      <td>is so sleepy it's not even funny that's she can't get to sleep.</td>\n",
       "    </tr>\n",
       "    <tr>\n",
       "      <th>sEXT</th>\n",
       "      <td>2.65</td>\n",
       "      <td>2.65</td>\n",
       "    </tr>\n",
       "    <tr>\n",
       "      <th>sNEU</th>\n",
       "      <td>3</td>\n",
       "      <td>3</td>\n",
       "    </tr>\n",
       "    <tr>\n",
       "      <th>sAGR</th>\n",
       "      <td>3.15</td>\n",
       "      <td>3.15</td>\n",
       "    </tr>\n",
       "    <tr>\n",
       "      <th>sCON</th>\n",
       "      <td>3.25</td>\n",
       "      <td>3.25</td>\n",
       "    </tr>\n",
       "    <tr>\n",
       "      <th>sOPN</th>\n",
       "      <td>4.4</td>\n",
       "      <td>4.4</td>\n",
       "    </tr>\n",
       "    <tr>\n",
       "      <th>cEXT</th>\n",
       "      <td>n</td>\n",
       "      <td>n</td>\n",
       "    </tr>\n",
       "    <tr>\n",
       "      <th>cNEU</th>\n",
       "      <td>y</td>\n",
       "      <td>y</td>\n",
       "    </tr>\n",
       "    <tr>\n",
       "      <th>cAGR</th>\n",
       "      <td>n</td>\n",
       "      <td>n</td>\n",
       "    </tr>\n",
       "    <tr>\n",
       "      <th>cCON</th>\n",
       "      <td>n</td>\n",
       "      <td>n</td>\n",
       "    </tr>\n",
       "    <tr>\n",
       "      <th>cOPN</th>\n",
       "      <td>y</td>\n",
       "      <td>y</td>\n",
       "    </tr>\n",
       "    <tr>\n",
       "      <th>DATE</th>\n",
       "      <td>06/19/09 03:21 PM</td>\n",
       "      <td>07/02/09 08:41 AM</td>\n",
       "    </tr>\n",
       "    <tr>\n",
       "      <th>status_length</th>\n",
       "      <td>27</td>\n",
       "      <td>63</td>\n",
       "    </tr>\n",
       "  </tbody>\n",
       "</table>\n",
       "</div>"
      ],
      "text/plain": [
       "                                              0  \\\n",
       "#AUTHID        b7b7764cfa1c523e4e93ab2a79a946c4   \n",
       "STATUS              likes the sound of thunder.   \n",
       "sEXT                                       2.65   \n",
       "sNEU                                          3   \n",
       "sAGR                                       3.15   \n",
       "sCON                                       3.25   \n",
       "sOPN                                        4.4   \n",
       "cEXT                                          n   \n",
       "cNEU                                          y   \n",
       "cAGR                                          n   \n",
       "cCON                                          n   \n",
       "cOPN                                          y   \n",
       "DATE                          06/19/09 03:21 PM   \n",
       "status_length                                27   \n",
       "\n",
       "                                                                             1  \n",
       "#AUTHID                                       b7b7764cfa1c523e4e93ab2a79a946c4  \n",
       "STATUS         is so sleepy it's not even funny that's she can't get to sleep.  \n",
       "sEXT                                                                      2.65  \n",
       "sNEU                                                                         3  \n",
       "sAGR                                                                      3.15  \n",
       "sCON                                                                      3.25  \n",
       "sOPN                                                                       4.4  \n",
       "cEXT                                                                         n  \n",
       "cNEU                                                                         y  \n",
       "cAGR                                                                         n  \n",
       "cCON                                                                         n  \n",
       "cOPN                                                                         y  \n",
       "DATE                                                         07/02/09 08:41 AM  \n",
       "status_length                                                               63  "
      ]
     },
     "execution_count": 4,
     "metadata": {},
     "output_type": "execute_result"
    }
   ],
   "source": [
    "df['status_length'] = df['STATUS'].map(lambda x: len(x))\n",
    "\n",
    "df.head(2).T"
   ]
  },
  {
   "cell_type": "code",
   "execution_count": 5,
   "metadata": {
    "ExecuteTime": {
     "end_time": "2021-06-06T04:56:13.487916Z",
     "start_time": "2021-06-06T04:56:13.450969Z"
    }
   },
   "outputs": [
    {
     "data": {
      "text/html": [
       "<div>\n",
       "<style scoped>\n",
       "    .dataframe tbody tr th:only-of-type {\n",
       "        vertical-align: middle;\n",
       "    }\n",
       "\n",
       "    .dataframe tbody tr th {\n",
       "        vertical-align: top;\n",
       "    }\n",
       "\n",
       "    .dataframe thead th {\n",
       "        text-align: right;\n",
       "    }\n",
       "</style>\n",
       "<table border=\"1\" class=\"dataframe\">\n",
       "  <thead>\n",
       "    <tr style=\"text-align: right;\">\n",
       "      <th></th>\n",
       "      <th>0</th>\n",
       "      <th>1</th>\n",
       "    </tr>\n",
       "  </thead>\n",
       "  <tbody>\n",
       "    <tr>\n",
       "      <th>#AUTHID</th>\n",
       "      <td>b7b7764cfa1c523e4e93ab2a79a946c4</td>\n",
       "      <td>b7b7764cfa1c523e4e93ab2a79a946c4</td>\n",
       "    </tr>\n",
       "    <tr>\n",
       "      <th>STATUS</th>\n",
       "      <td>likes the sound of thunder.</td>\n",
       "      <td>is so sleepy it's not even funny that's she can't get to sleep.</td>\n",
       "    </tr>\n",
       "    <tr>\n",
       "      <th>sEXT</th>\n",
       "      <td>2.65</td>\n",
       "      <td>2.65</td>\n",
       "    </tr>\n",
       "    <tr>\n",
       "      <th>sNEU</th>\n",
       "      <td>3</td>\n",
       "      <td>3</td>\n",
       "    </tr>\n",
       "    <tr>\n",
       "      <th>sAGR</th>\n",
       "      <td>3.15</td>\n",
       "      <td>3.15</td>\n",
       "    </tr>\n",
       "    <tr>\n",
       "      <th>sCON</th>\n",
       "      <td>3.25</td>\n",
       "      <td>3.25</td>\n",
       "    </tr>\n",
       "    <tr>\n",
       "      <th>sOPN</th>\n",
       "      <td>4.4</td>\n",
       "      <td>4.4</td>\n",
       "    </tr>\n",
       "    <tr>\n",
       "      <th>cEXT</th>\n",
       "      <td>n</td>\n",
       "      <td>n</td>\n",
       "    </tr>\n",
       "    <tr>\n",
       "      <th>cNEU</th>\n",
       "      <td>y</td>\n",
       "      <td>y</td>\n",
       "    </tr>\n",
       "    <tr>\n",
       "      <th>cAGR</th>\n",
       "      <td>n</td>\n",
       "      <td>n</td>\n",
       "    </tr>\n",
       "    <tr>\n",
       "      <th>cCON</th>\n",
       "      <td>n</td>\n",
       "      <td>n</td>\n",
       "    </tr>\n",
       "    <tr>\n",
       "      <th>cOPN</th>\n",
       "      <td>y</td>\n",
       "      <td>y</td>\n",
       "    </tr>\n",
       "    <tr>\n",
       "      <th>DATE</th>\n",
       "      <td>06/19/09 03:21 PM</td>\n",
       "      <td>07/02/09 08:41 AM</td>\n",
       "    </tr>\n",
       "    <tr>\n",
       "      <th>status_length</th>\n",
       "      <td>27</td>\n",
       "      <td>63</td>\n",
       "    </tr>\n",
       "    <tr>\n",
       "      <th>status_word_count</th>\n",
       "      <td>5</td>\n",
       "      <td>13</td>\n",
       "    </tr>\n",
       "  </tbody>\n",
       "</table>\n",
       "</div>"
      ],
      "text/plain": [
       "                                                  0  \\\n",
       "#AUTHID            b7b7764cfa1c523e4e93ab2a79a946c4   \n",
       "STATUS                  likes the sound of thunder.   \n",
       "sEXT                                           2.65   \n",
       "sNEU                                              3   \n",
       "sAGR                                           3.15   \n",
       "sCON                                           3.25   \n",
       "sOPN                                            4.4   \n",
       "cEXT                                              n   \n",
       "cNEU                                              y   \n",
       "cAGR                                              n   \n",
       "cCON                                              n   \n",
       "cOPN                                              y   \n",
       "DATE                              06/19/09 03:21 PM   \n",
       "status_length                                    27   \n",
       "status_word_count                                 5   \n",
       "\n",
       "                                                                                 1  \n",
       "#AUTHID                                           b7b7764cfa1c523e4e93ab2a79a946c4  \n",
       "STATUS             is so sleepy it's not even funny that's she can't get to sleep.  \n",
       "sEXT                                                                          2.65  \n",
       "sNEU                                                                             3  \n",
       "sAGR                                                                          3.15  \n",
       "sCON                                                                          3.25  \n",
       "sOPN                                                                           4.4  \n",
       "cEXT                                                                             n  \n",
       "cNEU                                                                             y  \n",
       "cAGR                                                                             n  \n",
       "cCON                                                                             n  \n",
       "cOPN                                                                             y  \n",
       "DATE                                                             07/02/09 08:41 AM  \n",
       "status_length                                                                   63  \n",
       "status_word_count                                                               13  "
      ]
     },
     "execution_count": 5,
     "metadata": {},
     "output_type": "execute_result"
    }
   ],
   "source": [
    "#### Create a new column called `status_word_count` that contains the number of\n",
    "#words in each status. Note: You can evaluate this based off of how many strings \n",
    "# are separated by whitespaces; you're not required to check that each set of \n",
    "#characters set apart by whitespaces is a word in the dictionary.\n",
    "\n",
    "df['status_word_count'] = df['STATUS'].map(lambda x: len(x.split()))\n",
    "df.head(2).T"
   ]
  },
  {
   "cell_type": "markdown",
   "metadata": {},
   "source": [
    "### Longest and shortest statuses\n",
    "\n",
    "Looking at individual observations can help us get a sense of what the dataset contains.\n",
    "\n",
    "#### Show the five longest and five shortest statuses based off of `status_word_count`:"
   ]
  },
  {
   "cell_type": "code",
   "execution_count": 6,
   "metadata": {
    "ExecuteTime": {
     "end_time": "2021-06-06T04:56:13.505575Z",
     "start_time": "2021-06-06T04:56:13.490739Z"
    }
   },
   "outputs": [
    {
     "data": {
      "text/plain": [
       "8178    1\n",
       "4170    1\n",
       "2016    1\n",
       "956     1\n",
       "4177    1\n",
       "Name: status_word_count, dtype: int64"
      ]
     },
     "execution_count": 6,
     "metadata": {},
     "output_type": "execute_result"
    }
   ],
   "source": [
    "#shortest\n",
    "df['status_word_count'].sort_values(ascending=True).head()"
   ]
  },
  {
   "cell_type": "code",
   "execution_count": 7,
   "metadata": {
    "ExecuteTime": {
     "end_time": "2021-06-06T04:56:13.517324Z",
     "start_time": "2021-06-06T04:56:13.508484Z"
    }
   },
   "outputs": [
    {
     "data": {
      "text/plain": [
       "496     89\n",
       "6989    85\n",
       "5208    84\n",
       "5680    83\n",
       "9695    83\n",
       "Name: status_word_count, dtype: int64"
      ]
     },
     "execution_count": 7,
     "metadata": {},
     "output_type": "execute_result"
    }
   ],
   "source": [
    "#longest\n",
    "df['status_word_count'].sort_values(ascending=False).head()"
   ]
  },
  {
   "cell_type": "markdown",
   "metadata": {},
   "source": [
    "## What's the distribution of post lengths?\n",
    "\n",
    "Use visuals to show the distributions of post lengths. Show both the distribution of word counts and the distribution of lengths based off character."
   ]
  },
  {
   "cell_type": "code",
   "execution_count": 53,
   "metadata": {
    "ExecuteTime": {
     "end_time": "2021-06-06T05:37:50.659188Z",
     "start_time": "2021-06-06T05:37:50.470400Z"
    },
    "scrolled": true
   },
   "outputs": [
    {
     "data": {
      "image/png": "[encoded data removed]",
      "text/plain": [
       "<Figure size 432x288 with 1 Axes>"
      ]
     },
     "metadata": {
      "needs_background": "light"
     },
     "output_type": "display_data"
    }
   ],
   "source": [
    "df['status_length'].hist();\n",
    "plt.title('Distribution of Facebook status lengths by number of characters', size=14);\n",
    "plt.xlabel('Number of characters', size=14)\n",
    "plt.ylabel('Number of status updates', size=14);"
   ]
  },
  {
   "cell_type": "code",
   "execution_count": 52,
   "metadata": {
    "ExecuteTime": {
     "end_time": "2021-06-06T05:37:32.873441Z",
     "start_time": "2021-06-06T05:37:32.694890Z"
    }
   },
   "outputs": [
    {
     "data": {
      "image/png": "[encoded data removed]",
      "text/plain": [
       "<Figure size 432x288 with 1 Axes>"
      ]
     },
     "metadata": {
      "needs_background": "light"
     },
     "output_type": "display_data"
    }
   ],
   "source": [
    "df['status_word_count'].hist();\n",
    "plt.title('Distribution of Facebook status lengths by word count', size = 14);\n",
    "plt.xlabel('Word count', size = 14)\n",
    "plt.ylabel('Number of status updates', size = 14);"
   ]
  },
  {
   "cell_type": "markdown",
   "metadata": {},
   "source": [
    "---\n",
    "\n",
    "## EDA of Personality Scores\n",
    "\n",
    "There are two sets of personality columns in the dataset: class and score. According to the attached paper, scores have been converted to categories based on whether a score for a user fell above or below the median.\n",
    "\n",
    "### Plot the distributions of personality scores for all five score columns:"
   ]
  },
  {
   "cell_type": "code",
   "execution_count": 91,
   "metadata": {
    "ExecuteTime": {
     "end_time": "2021-06-06T06:00:08.384913Z",
     "start_time": "2021-06-06T06:00:08.371910Z"
    },
    "scrolled": true
   },
   "outputs": [
    {
     "data": {
      "text/plain": [
       "Index(['sEXT', 'sNEU', 'sAGR', 'sCON', 'sOPN'], dtype='object')"
      ]
     },
     "execution_count": 91,
     "metadata": {},
     "output_type": "execute_result"
    }
   ],
   "source": [
    "#filter out only score columns\n",
    "\n",
    "types = pd.DataFrame(df.dtypes, columns=['datatype']) #make a df from our column \n",
    "#datatypes, and name the resulting column (which is otherwise unnamed)\n",
    "\n",
    "only_scores = types[(types.datatype == \"float64\")].index #filter for only the floats;\n",
    "#we know this because we saw that these are the only datatypes in the df that corr.\n",
    "#to scores\n",
    "\n",
    "only_scores"
   ]
  },
  {
   "cell_type": "code",
   "execution_count": 99,
   "metadata": {
    "ExecuteTime": {
     "end_time": "2021-06-06T06:05:55.606399Z",
     "start_time": "2021-06-06T06:05:55.221308Z"
    }
   },
   "outputs": [
    {
     "data": {
      "image/png": "[encoded data removed]",
      "text/plain": [
       "<Figure size 864x576 with 1 Axes>"
      ]
     },
     "metadata": {},
     "output_type": "display_data"
    }
   ],
   "source": [
    "#plt.hist([data_1, data_2])\n",
    "#code ref from: https://www.kite.com/python/answers/how-to-plot-two-histograms-on-one-plot-using-matplotlib-in-python\n",
    "\n",
    "plt.figure(figsize=(12,8))\n",
    "plt.hist([df['sEXT'], df['sNEU'], df['sAGR'], df['sCON'], df['sOPN']]);\n",
    "plt.title('Distribution of personality scores', size=14);\n",
    "plt.legend(('sEXT', 'sNEU', 'sAGR', 'sCON', 'sOPN'), loc='upper right');"
   ]
  },
  {
   "cell_type": "markdown",
   "metadata": {},
   "source": [
    "---\n",
    "\n",
    "### How many unique users exist in the dataset?\n",
    "\n",
    "This dataset has redacted original poster names, but each user is given an `#AUTHID`. How many unique users are there, and how many posts per user do we have?"
   ]
  },
  {
   "cell_type": "code",
   "execution_count": 14,
   "metadata": {
    "ExecuteTime": {
     "end_time": "2021-06-06T05:06:04.404621Z",
     "start_time": "2021-06-06T05:06:04.044373Z"
    }
   },
   "outputs": [],
   "source": [
    "#let's use some SQL, baby\n",
    "#docstring: https://pypi.org/project/pandasql/\n",
    "from pandasql import sqldf\n",
    "pysqldf = lambda q: sqldf(q, globals())\n",
    "\n",
    "def pysqldf(q):\n",
    "    #add this to your script if you get tired of calling locals()\n",
    "    return sqldf(q, globals())"
   ]
  },
  {
   "cell_type": "code",
   "execution_count": 24,
   "metadata": {
    "ExecuteTime": {
     "end_time": "2021-06-06T05:18:25.024827Z",
     "start_time": "2021-06-06T05:18:25.013823Z"
    }
   },
   "outputs": [
    {
     "data": {
      "text/plain": [
       "Index(['author', 'STATUS', 'sEXT', 'sNEU', 'sAGR', 'sCON', 'sOPN', 'cEXT',\n",
       "       'cNEU', 'cAGR', 'cCON', 'cOPN', 'DATE', 'status_length',\n",
       "       'status_word_count'],\n",
       "      dtype='object')"
      ]
     },
     "execution_count": 24,
     "metadata": {},
     "output_type": "execute_result"
    }
   ],
   "source": [
    "df = df.rename(columns={'#AUTHID':'author'})\n",
    "df.columns"
   ]
  },
  {
   "cell_type": "code",
   "execution_count": 40,
   "metadata": {
    "ExecuteTime": {
     "end_time": "2021-06-06T05:28:22.715895Z",
     "start_time": "2021-06-06T05:28:22.523675Z"
    }
   },
   "outputs": [
    {
     "name": "stdout",
     "output_type": "stream",
     "text": [
      "                              author  num_posts\n",
      "0   e6cdef6f475cce3023c5b715f8c9f110        223\n",
      "1   6f2bebc01062eb8334dccba3e048fdb5        219\n",
      "2   527ed53d2ba3a3bc417b8402d5b2f556        194\n",
      "3   d7e500ad854a1b6ced39e53a525b8a6d        184\n",
      "4   0737e4e4980f56c9fb1cb5743001c917        172\n",
      "5   502db2fcfe26705ae16a46c5cb2ad2e5        165\n",
      "6   b4a21c82de4011033c8ac67081ff939c        162\n",
      "7   b2be41464b53ffc6deae9536ddfd3aee        159\n",
      "8   c3f4b3e345cb6b032db2e0459d179db3        153\n",
      "9   715c9eb832dc833a0b6409ddccd268b1        151\n",
      "10  f7456ac4e6b20911c40fdad18908a8d2        150\n",
      "11  0bfa3d952ffed50f25011b128e73a820        141\n",
      "12  e4a512374eee079d2b8acc2ce69990d5        126\n",
      "13  dbdfbfda2a4205bd59b22758ceddd5af        126\n",
      "14  f2026b8cb48aff9af31577ecbfda5c38        123\n"
     ]
    }
   ],
   "source": [
    "df = df\n",
    "\n",
    "\n",
    "q = \"\"\"\n",
    "    SELECT DISTINCT author, COUNT(status) AS num_posts\n",
    "           FROM df\n",
    "           GROUP BY author\n",
    "           ORDER BY num_posts DESC\n",
    "              \n",
    "\"\"\"\n",
    "print(pysqldf(q).head(15))"
   ]
  },
  {
   "cell_type": "code",
   "execution_count": 56,
   "metadata": {
    "ExecuteTime": {
     "end_time": "2021-06-06T05:38:59.855455Z",
     "start_time": "2021-06-06T05:38:59.678697Z"
    }
   },
   "outputs": [
    {
     "name": "stdout",
     "output_type": "stream",
     "text": [
      "   unique_authors  posts\n",
      "0             250   9916\n"
     ]
    }
   ],
   "source": [
    "df = df\n",
    "\n",
    "\n",
    "q = \"\"\"\n",
    "    SELECT COUNT(DISTINCT(author)) as unique_authors, COUNT(status) as posts\n",
    "           FROM df\n",
    "              \n",
    "\"\"\"\n",
    "print(pysqldf(q))"
   ]
  },
  {
   "cell_type": "code",
   "execution_count": 48,
   "metadata": {
    "ExecuteTime": {
     "end_time": "2021-06-06T05:33:23.325525Z",
     "start_time": "2021-06-06T05:33:23.135618Z"
    }
   },
   "outputs": [
    {
     "name": "stdout",
     "output_type": "stream",
     "text": [
      "   posts_per_author\n",
      "0                39\n"
     ]
    }
   ],
   "source": [
    "df = df\n",
    "\n",
    "\n",
    "q = \"\"\"\n",
    "    SELECT COUNT(status)/COUNT(DISTINCT(author)) as posts_per_author\n",
    "           FROM df\n",
    "              \n",
    "\"\"\"\n",
    "print(pysqldf(q))"
   ]
  },
  {
   "cell_type": "markdown",
   "metadata": {},
   "source": [
    "## EDA on unique users\n",
    "\n",
    "Because we have many posts per user for most users, doing EDA on the personality score columns might be misleading. If we have 200 Facebook statuses from one very high-conscientiousness user, a bar chart of how many `'cCON'` statuses are associated with `'y'` might be misleading. We'll have to be careful about labeling and titling any visualizations we make off of the dataset.\n",
    "\n",
    "#### Create a new dataframe called `unique_users` that only contains the `#AUTHID`, personality score, and personality category columns:\n",
    "\n",
    "If you do this correctly, it should have 250 rows and 11 columns.\n",
    "\n",
    "(Hint: You can use the pandas [drop_duplicates()](https://pandas.pydata.org/pandas-docs/stable/reference/api/pandas.DataFrame.drop_duplicates.html) method to make this easier. The only column you want to consider when deciding if a user is duplicated is the `#AUTHID` column.)"
   ]
  },
  {
   "cell_type": "code",
   "execution_count": null,
   "metadata": {},
   "outputs": [],
   "source": []
  },
  {
   "cell_type": "markdown",
   "metadata": {},
   "source": [
    "#### Plot the distribution of personality scores for `unique_users`:\n",
    "\n",
    "Do the distributions look different? Here, each individual user will only be represented once."
   ]
  },
  {
   "cell_type": "code",
   "execution_count": null,
   "metadata": {},
   "outputs": [],
   "source": []
  },
  {
   "cell_type": "markdown",
   "metadata": {},
   "source": [
    "#### Use the `.describe()` method on `unique_users`:"
   ]
  },
  {
   "cell_type": "code",
   "execution_count": null,
   "metadata": {},
   "outputs": [],
   "source": []
  },
  {
   "cell_type": "markdown",
   "metadata": {},
   "source": [
    "### Plots vs. Tables\n",
    "\n",
    "Consider what different information is easily conveyed by the plots of scores, versus the table with summary statistics. Explain when you might present a distribution versus when you might present a table of summary statistics."
   ]
  },
  {
   "cell_type": "code",
   "execution_count": null,
   "metadata": {},
   "outputs": [],
   "source": []
  },
  {
   "cell_type": "markdown",
   "metadata": {},
   "source": [
    "#### Other visualizations:\n",
    "\n",
    "Create 1-2 additional visualizations related to the `unique_users` dataframe.\n",
    "\n",
    "You might consider:\n",
    "- Barcharts of users per category per trait\n",
    "- A seaborn correlation heatmap\n",
    "- A seaborn pairplot"
   ]
  },
  {
   "cell_type": "code",
   "execution_count": null,
   "metadata": {},
   "outputs": [],
   "source": []
  },
  {
   "cell_type": "markdown",
   "metadata": {},
   "source": [
    "---\n",
    "\n",
    "## Exploring status length and word count based on personality\n",
    "\n",
    "#### Using `groupby()`, find the mean status length and status word count for posts by users in the high and low categories of each of the Big 5 traits.\n",
    "\n",
    "You'll need to use `groupby()` five separate times for this."
   ]
  },
  {
   "cell_type": "code",
   "execution_count": null,
   "metadata": {},
   "outputs": [],
   "source": []
  },
  {
   "cell_type": "markdown",
   "metadata": {},
   "source": [
    "#### Choose one of the personality category columns (i.e. `cOPN`, `cCON`, `cEXT`, `cAGR`, or `cNEU`.) Use `sns.distplot()` to visualize the distribution of status word counts of posts by users who score high (`y`) and the distribution of status word counts of posts by users who score low (`n`) in that personality category:"
   ]
  },
  {
   "cell_type": "code",
   "execution_count": null,
   "metadata": {},
   "outputs": [],
   "source": []
  },
  {
   "cell_type": "markdown",
   "metadata": {},
   "source": [
    "---\n",
    "\n",
    "## EDA on Word Counts\n",
    "\n",
    "### Vectorize the text\n",
    "\n",
    "In order to perform EDA on word count data, we'll need to count-vectorize.\n",
    "\n",
    "Create a dataframe that contains the count-vectorized text for each Facebook status in the dataset.\n",
    "\n",
    "To do this, you might follow these steps:\n",
    "- Instantiate a `CountVectorizer` object\n",
    "- Fit the count vectorizer on the Facebook statuses\n",
    "- Store the transformed data\n",
    "- Convert to a dataframe and store\n",
    "    - Don't forget that the transformed data will need to be 'densified'. The `toarray()` or `todense()` methods will allow this.\n",
    "    - Don't forget that the `get_feature_names()` method on a fitted `CountVectorizer` object will bring you back the words learned from the dataset, which you can set as the `columns` argument when creating the dataframe.\n",
    "    \n",
    "It's up to you whether or not to keep stopwords in the dataset."
   ]
  },
  {
   "cell_type": "code",
   "execution_count": null,
   "metadata": {},
   "outputs": [],
   "source": []
  },
  {
   "cell_type": "markdown",
   "metadata": {},
   "source": [
    "### Show the 15 most common words"
   ]
  },
  {
   "cell_type": "code",
   "execution_count": null,
   "metadata": {},
   "outputs": [],
   "source": []
  },
  {
   "cell_type": "markdown",
   "metadata": {},
   "source": [
    "### Show the 15 frequency of the most common words as a bar chart\n",
    "\n",
    "**Hint**: You can do this in one line of code. [This webpage](https://dfrieds.com/data-visualizations/bar-plot-python-pandas.html) has an example."
   ]
  },
  {
   "cell_type": "code",
   "execution_count": null,
   "metadata": {},
   "outputs": [],
   "source": []
  },
  {
   "cell_type": "markdown",
   "metadata": {},
   "source": [
    "### Investigating `propname`\n",
    "\n",
    "The word `propname` shows up frequently in this dataset. Show the first 10 statuses in the dataset that contain `propname`:"
   ]
  },
  {
   "cell_type": "code",
   "execution_count": null,
   "metadata": {},
   "outputs": [],
   "source": []
  },
  {
   "cell_type": "markdown",
   "metadata": {},
   "source": [
    "#### Provide a short explanation of what you believe `propname` to be:\n",
    "\n",
    "Hint: The attached PDF also contains an explanation."
   ]
  },
  {
   "cell_type": "code",
   "execution_count": null,
   "metadata": {},
   "outputs": [],
   "source": []
  },
  {
   "cell_type": "markdown",
   "metadata": {},
   "source": [
    "## Most common words based on personality category\n",
    "\n",
    "In order to do more targeted EDA, we'll need to be able to reference not only the dataframe of vectorized statuses, but also the personality scores from the original dataframe.\n",
    "\n",
    "#### Create a new dataframe called `text_and_scores` that concatenates the count-vectorized statuses side-by-side with the original personality category columns:"
   ]
  },
  {
   "cell_type": "code",
   "execution_count": null,
   "metadata": {},
   "outputs": [],
   "source": []
  },
  {
   "cell_type": "markdown",
   "metadata": {},
   "source": [
    "#### Show the 25 most common words for statuses from high-cAGR users:"
   ]
  },
  {
   "cell_type": "code",
   "execution_count": null,
   "metadata": {},
   "outputs": [],
   "source": []
  },
  {
   "cell_type": "markdown",
   "metadata": {},
   "source": [
    "#### Show the 25 most common words for statuses from low-cAGR users:"
   ]
  },
  {
   "cell_type": "code",
   "execution_count": null,
   "metadata": {},
   "outputs": [],
   "source": []
  },
  {
   "cell_type": "markdown",
   "metadata": {},
   "source": [
    "### (BONUS) Most common bigrams:\n",
    "\n",
    "This is a bonus section and not required.\n",
    "\n",
    "Find the 10 most common bigrams in the dataset."
   ]
  },
  {
   "cell_type": "code",
   "execution_count": null,
   "metadata": {},
   "outputs": [],
   "source": []
  },
  {
   "cell_type": "markdown",
   "metadata": {},
   "source": [
    "### (BONUS) Most common trigrams:\n",
    "\n",
    "This is a bonus section and not required.\n",
    "\n",
    "Find the 10 most common trigrams in the dataset."
   ]
  },
  {
   "cell_type": "code",
   "execution_count": null,
   "metadata": {},
   "outputs": [],
   "source": []
  },
  {
   "cell_type": "markdown",
   "metadata": {},
   "source": [
    "---\n",
    "\n",
    "## Choose your own adventure\n",
    "\n",
    "By now you've looked at a lot of visualizations and frequency counts.\n",
    "\n",
    "Come up with 2-3 questions about the data, and try to answer them using descriptive statistics (like counts, averages, etc.) or visualizations.\n",
    "\n",
    "Some questions you might explore:\n",
    "- Have numbers been redacted, or are phone numbers, house numbers, or zip codes anywhere in the dataset?\n",
    "- `PROPNAME` has been used to redact personal names. Given that this data was scraped between 2009 and 2011, investigate if any public figures or famous people show up in the dataset, or their names have been redacted as well.\n",
    "- Is count of uppercase letters vs. lowercase letters per status related to any personality category or personality score?\n",
    "- Is _average_ word count per status related to any personality category or personality metric?\n",
    "- Is punctuation use related to personality?\n",
    "\n",
    "Or, of course, come up with your own questions to investigate!\n",
    "\n",
    "The focus here is on \"explore\" -- you might not find anything of particular interest, but don't let that discourage you."
   ]
  },
  {
   "cell_type": "code",
   "execution_count": null,
   "metadata": {},
   "outputs": [],
   "source": []
  },
  {
   "cell_type": "markdown",
   "metadata": {},
   "source": [
    "---\n",
    "\n",
    "## Exploratory vs. Explanatory Data Analysis \n",
    "\n",
    "> **Exploratory analysis** is what you do to get familiar with the data. You may start out with a hypothesis or question, or you may just really be delving into the data to determine what might be interesting about it. Exploratory analysis is the process of turning over 100 rocks to find perhaps 1 or 2 precious gemstones.\n",
    ">\n",
    "> **Explanatory analysis** is what happens when you have something specific you want to show an audience - probably about those 1 or 2 precious gemstones. In my blogging and writing, I tend to focus mostly on this latter piece, explanatory analysis, when you've already gone through the exploratory analysis and from this have determined something specific you want to communicate to a given audience: in other words, when you want to tell a story with data.\n",
    "\n",
    "- Cole Nussbaumer Knaflic, [exploratory vs. explanatory analysis](http://www.storytellingwithdata.com/blog/2014/04/exploratory-vs-explanatory-analysis)\n",
    "\n",
    "### Choose one visual to explain:\n",
    "\n",
    "Now that you've performed an exploratory data analysis, choose a visual (or 1-3 related visuals) to frame as _explanatory_. This can be a visual you created above, or you can create a new visual. For this visual, make sure the visuals are formatted clearly, and provide a one to two paragraph explanation/interpretation of the visual."
   ]
  },
  {
   "cell_type": "code",
   "execution_count": null,
   "metadata": {},
   "outputs": [],
   "source": []
  }
 ],
 "metadata": {
  "kernelspec": {
   "display_name": "Python 3",
   "language": "python",
   "name": "python3"
  },
  "language_info": {
   "codemirror_mode": {
    "name": "ipython",
    "version": 3
   },
   "file_extension": ".py",
   "mimetype": "text/x-python",
   "name": "python",
   "nbconvert_exporter": "python",
   "pygments_lexer": "ipython3",
   "version": "3.8.3"
  },
  "toc": {
   "base_numbering": 1,
   "nav_menu": {},
   "number_sections": true,
   "sideBar": true,
   "skip_h1_title": false,
   "title_cell": "Table of Contents",
   "title_sidebar": "Contents",
   "toc_cell": false,
   "toc_position": {},
   "toc_section_display": true,
   "toc_window_display": true
  },
  "varInspector": {
   "cols": {
    "lenName": 16,
    "lenType": 16,
    "lenVar": 40
   },
   "kernels_config": {
    "python": {
     "delete_cmd_postfix": "",
     "delete_cmd_prefix": "del ",
     "library": "var_list.py",
     "varRefreshCmd": "print(var_dic_list())"
    },
    "r": {
     "delete_cmd_postfix": ") ",
     "delete_cmd_prefix": "rm(",
     "library": "var_list.r",
     "varRefreshCmd": "cat(var_dic_list()) "
    }
   },
   "types_to_exclude": [
    "module",
    "function",
    "builtin_function_or_method",
    "instance",
    "_Feature"
   ],
   "window_display": false
  }
 },
 "nbformat": 4,
 "nbformat_minor": 4
}
